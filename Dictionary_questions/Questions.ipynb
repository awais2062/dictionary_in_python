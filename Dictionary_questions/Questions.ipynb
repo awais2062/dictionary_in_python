{
 "cells": [
  {
   "cell_type": "code",
   "execution_count": 1,
   "id": "956c7caf-d4ec-4a65-a5bf-0f5ba0391829",
   "metadata": {},
   "outputs": [
    {
     "name": "stdout",
     "output_type": "stream",
     "text": [
      "{}\n"
     ]
    }
   ],
   "source": [
    "\"\"\"\n",
    "Q2.\n",
    "Initiaze a empty dictionary\n",
    "\"\"\"\n",
    "\n",
    "\n",
    "my_dict = {}\n",
    "\n",
    "print(my_dict)\n"
   ]
  },
  {
   "cell_type": "code",
   "execution_count": null,
   "id": "43b4a238-2e5c-4dfd-975b-a11f2f4509f5",
   "metadata": {},
   "outputs": [],
   "source": []
  },
  {
   "cell_type": "code",
   "execution_count": 2,
   "id": "ba16e6fa-eb10-49f1-92ad-b4d999efc68c",
   "metadata": {},
   "outputs": [
    {
     "name": "stdout",
     "output_type": "stream",
     "text": [
      "{0: 10, 1: 20, 2: 30, 'aaa': 3}\n"
     ]
    }
   ],
   "source": [
    "\"\"\"\n",
    "Q3.\n",
    "Write a program to add a key to a dictionary21z\\  \n",
    "\"\"\"\n",
    "\n",
    "my_dic={0:10,1:20}\n",
    "my_dic.update({2:30})\n",
    "my_dic['aaa']=3\n",
    "\n",
    "print(my_dic)"
   ]
  },
  {
   "cell_type": "code",
   "execution_count": 3,
   "id": "47bf052b-c0cd-4f0c-8490-c5cf4bb9c2d3",
   "metadata": {},
   "outputs": [
    {
     "name": "stdout",
     "output_type": "stream",
     "text": [
      "{'ten': 10, 'twenty': 20, 'thirty': 30}\n"
     ]
    }
   ],
   "source": [
    "\"\"\"\n",
    "Q4.\n",
    "Convert two list into a dictionary\n",
    "\"\"\"\n",
    "\n",
    "key=[\"ten\",\"twenty\",\"thirty\"]\n",
    "values=[10,20,30]\n",
    "my_dic={}\n",
    "for i in range(0,len(key)):\n",
    "   # my_dic[key[i]]=values[i]\n",
    "    my_dic.update({key[i]:values[i]})\n",
    "print(my_dic)"
   ]
  },
  {
   "cell_type": "code",
   "execution_count": 4,
   "id": "7d4012d3-2907-4b39-85aa-f4f7a582d194",
   "metadata": {},
   "outputs": [
    {
     "name": "stdout",
     "output_type": "stream",
     "text": [
      "80\n"
     ]
    }
   ],
   "source": [
    "\"\"\"\n",
    "Q5.\n",
    "Print the value of key 'History' from the dictionary\n",
    "\"\"\"\n",
    "\n",
    "marks={\"physics\":70,\"History\":80}\n",
    "#print(marks[\"History\"])\n",
    "result=marks.get(\"History\")\n",
    "print(result)"
   ]
  },
  {
   "cell_type": "code",
   "execution_count": 5,
   "id": "1e33a7d2-7570-4fc3-be75-a637c14d831e",
   "metadata": {},
   "outputs": [
    {
     "name": "stdout",
     "output_type": "stream",
     "text": [
      "{'name': None, 'age': None, 'salary': None, 'city': None}\n"
     ]
    }
   ],
   "source": [
    "\"\"\"\n",
    "Q6.\n",
    "initialize dictionary with default values\n",
    "\"\"\"\n",
    "keys = [\"name\", \"age\", \"salary\", \"city\"]\n",
    "default_value = None\n",
    "new_dict = {}\n",
    "\n",
    "for k in keys:\n",
    "    new_dict[k] = default_value\n",
    "\n",
    "print(new_dict)\n",
    "\n"
   ]
  },
  {
   "cell_type": "code",
   "execution_count": 6,
   "id": "42b79fb6-0dd9-45ac-8c30-289cafc891d4",
   "metadata": {},
   "outputs": [
    {
     "name": "stdout",
     "output_type": "stream",
     "text": [
      "{'name': 'Awais', 'salary': 8000}\n"
     ]
    }
   ],
   "source": [
    "\"\"\"\n",
    "Q7.\n",
    "Create a dictionary by extracting the keys from a given dictionary\n",
    "\"\"\"\n",
    "sample_dic = {\"name\": \"Awais\", \"age\": 22, \"salary\": 8000, \"city\": \"Rawalpindi\"}\n",
    "extract = [\"name\", \"salary\"]\n",
    "\n",
    "new_dic = {}\n",
    "\n",
    "for v in extract:\n",
    "    if v in sample_dic:\n",
    "        new_dic[v] = sample_dic[v]\n",
    "\n",
    "print(new_dic)\n",
    "    \n"
   ]
  },
  {
   "cell_type": "code",
   "execution_count": 7,
   "id": "4c898acf-5908-458a-ae3c-2428e69bd2f0",
   "metadata": {},
   "outputs": [
    {
     "name": "stdout",
     "output_type": "stream",
     "text": [
      "value exist in dictionary\n"
     ]
    }
   ],
   "source": [
    "\"\"\"\n",
    "Q8.\n",
    "Check if a 200 value exist in a dictionary\n",
    "\"\"\"\n",
    "\n",
    "sample_dic={\"a\":100,\"b\":200,\"c\":300}\n",
    "if 200 in sample_dic.values():\n",
    "    print(\"value exist in dictionary\")\n",
    "else:\n",
    "    print(\"value does not exist in dictionary\")\n"
   ]
  },
  {
   "cell_type": "code",
   "execution_count": 8,
   "id": "41092f3b-15da-4941-9d39-91466827b728",
   "metadata": {},
   "outputs": [
    {
     "name": "stdout",
     "output_type": "stream",
     "text": [
      "{'name': 'Awais', 'age': 22, 'salary': 8000, 'location': 'Rawalpindi'}\n"
     ]
    }
   ],
   "source": [
    "\"\"\"\n",
    "Q9.\n",
    "Rename a key city to location of a dictionary\n",
    "\"\"\"\n",
    "\n",
    "sample_dic = {\"name\": \"Awais\", \"age\": 22, \"salary\": 8000, \"city\": \"Rawalpindi\"}\n",
    "sample_dic[\"location\"] = sample_dic.pop(\"city\")\n",
    "print(sample_dic)"
   ]
  },
  {
   "cell_type": "code",
   "execution_count": 9,
   "id": "68b4c8f5-17cd-4fd4-8fad-7ea93cdc37c4",
   "metadata": {},
   "outputs": [
    {
     "name": "stdout",
     "output_type": "stream",
     "text": [
      "history\n",
      "59\n"
     ]
    }
   ],
   "source": [
    "\"\"\"\n",
    "Q10.\n",
    "Get the key of a minimum value of a dictionary\n",
    "\"\"\"\n",
    "\n",
    "\n",
    "\n",
    "sample_dic = {\"physics\": 65, \"maths\": 87, \"history\": 59}\n",
    "# print(min(list(sample_dic.keys())))\n",
    "\n",
    "\n",
    "min_value = float('inf')\n",
    "min_key = None\n",
    "\n",
    "\n",
    "for k,v in sample_dic.items():\n",
    "    if v < min_value:\n",
    "        min_value = v\n",
    "        min_key = k\n",
    "print(min_key)\n",
    "print(min_value)\n",
    "\n",
    "\n"
   ]
  },
  {
   "cell_type": "code",
   "execution_count": 10,
   "id": "04a4ac1f-101d-4aad-99d5-b60a12416923",
   "metadata": {},
   "outputs": [
    {
     "name": "stdout",
     "output_type": "stream",
     "text": [
      "name -> Awais\n",
      "age -> 22\n",
      "salary -> 8000\n",
      "city -> Rawalpindi\n"
     ]
    }
   ],
   "source": [
    "\"\"\"\n",
    "Q11.\n",
    "Write a program to iterate over dictionaries using for loop\n",
    "\"\"\"\n",
    "sample_dic = {\"name\": \"Awais\", \"age\": 22, \"salary\": 8000, \"city\": \"Rawalpindi\"}\n",
    "for k,v in sample_dic.items():\n",
    "    print(k, '->', v)\n"
   ]
  },
  {
   "cell_type": "code",
   "execution_count": 11,
   "id": "7588801a-32ef-4537-99ba-1e3d9356be53",
   "metadata": {},
   "outputs": [
    {
     "name": "stdout",
     "output_type": "stream",
     "text": [
      "211\n"
     ]
    }
   ],
   "source": [
    "\"\"\"\n",
    "Q12.\n",
    "Write a program to sum all the items in a dictionary\n",
    "\"\"\"\n",
    "\n",
    "sample_dic = {\"physics\": 65, \"maths\": 87, \"history\": 59}\n",
    "#print(sum(list(sample_dic.values())))\n",
    "\n",
    "total=0\n",
    "for i in sample_dic.values():\n",
    "    total=total+i\n",
    "print(total)"
   ]
  },
  {
   "cell_type": "code",
   "execution_count": 12,
   "id": "1241bb0e-c386-4935-abf0-e7a8dd43d51b",
   "metadata": {},
   "outputs": [
    {
     "name": "stdout",
     "output_type": "stream",
     "text": [
      "333645\n"
     ]
    }
   ],
   "source": [
    "\"\"\"\n",
    "Q13.\n",
    "Write a program to multiply all the items in a dictionary\n",
    "\"\"\"\n",
    "sample_dic = {\"physics\": 65, \"maths\": 87, \"history\": 59}\n",
    "\n",
    "total=1\n",
    "for i in sample_dic.values():\n",
    "    total=total*i\n",
    "print(total)"
   ]
  },
  {
   "cell_type": "code",
   "execution_count": 13,
   "id": "84e37b32-1a18-4113-9756-1e309066b12a",
   "metadata": {},
   "outputs": [
    {
     "name": "stdout",
     "output_type": "stream",
     "text": [
      "Minimum Value is = 59\n",
      "Maximum Value is = 87\n"
     ]
    }
   ],
   "source": [
    "\"\"\"\n",
    "Q14.\n",
    "Write a program to get the max and min value of a dictionary\n",
    "\"\"\"\n",
    "marks = {\"physics\": 65, \"maths\": 87, \"history\": 59}\n",
    "# print(min(list(marks.values())))\n",
    "# print(max(list(marks.values())))\n",
    "\n",
    "min_value = float('inf')\n",
    "max_value= float('-inf')\n",
    "\n",
    "for v in marks.values():\n",
    "    if v < min_value:\n",
    "        min_value = v\n",
    "    if v > max_value:\n",
    "        max_value = v\n",
    "   \n",
    "print(\"Minimum Value is =\", min_value)\n",
    "print(\"Maximum Value is =\", max_value)\n"
   ]
  },
  {
   "cell_type": "code",
   "execution_count": 14,
   "id": "d3a37643-9881-4734-8cb0-281f21708156",
   "metadata": {},
   "outputs": [
    {
     "name": "stdout",
     "output_type": "stream",
     "text": [
      "{'physics': 65, 'maths': 87, 'history': 59}\n"
     ]
    }
   ],
   "source": [
    "\"\"\"\n",
    "Q15.\n",
    "Write a program to remove duplicates from a dictionary\n",
    "\"\"\"\n",
    "\n",
    "marks = {\"physics\": 65, \"maths\": 87, \"history\": 59, \"english\": 65, \"urdu\": 65,}\n",
    "result = {}\n",
    "for k, v in marks.items():\n",
    "    if v not in result.values():\n",
    "        result[k] = v\n",
    "print(result) "
   ]
  },
  {
   "cell_type": "code",
   "execution_count": 15,
   "id": "c33ac081-3aee-48b0-82c6-650c154df867",
   "metadata": {},
   "outputs": [
    {
     "name": "stdout",
     "output_type": "stream",
     "text": [
      "{'S009', 'S007', 'S005', 'S002', 'S001'}\n"
     ]
    }
   ],
   "source": [
    "\"\"\"\n",
    "Q16.\n",
    "Write a program to print all distinct values in a dictionary\n",
    "\"\"\"\n",
    "# lst1= [\n",
    "#     {\"V\": \"S001\"},\n",
    "#     {\"V\": \"S002\"},\n",
    "#     {\"VI\": \"S001\"},\n",
    "#     {\"VI\": \"S005\"},\n",
    "#     {\"VII\": \"S005\"},\n",
    "#     {\"V\": \"S009\"},\n",
    "#     {\"VIII\": \"S007\"}\n",
    "# ]\n",
    "\n",
    "\n",
    "# u_value = set(val for dic in lst1 for val in dic.values())\n",
    "# print(u_value) \n",
    "\n",
    "\n",
    "lst1 = [\n",
    "    {\"V\": \"S001\"},\n",
    "    {\"V\": \"S002\"},\n",
    "    {\"VI\": \"S001\"},\n",
    "    {\"VI\": \"S005\"},\n",
    "    {\"VII\": \"S005\"},\n",
    "    {\"V\": \"S009\"},\n",
    "    {\"VIII\": \"S007\"}\n",
    "]\n",
    "\n",
    "duplicates=set()\n",
    "for i in lst1:\n",
    "    for value in i.values():\n",
    "        duplicates.add(value)\n",
    "print(duplicates)\n"
   ]
  },
  {
   "cell_type": "code",
   "execution_count": 16,
   "id": "083b8475-e4bf-4c2a-a674-72f9f026d255",
   "metadata": {},
   "outputs": [
    {
     "name": "stdout",
     "output_type": "stream",
     "text": [
      "{'w': 1, '3': 1, 'r': 2, 'e': 2, 's': 1, 'o': 1, 'u': 1, 'c': 1}\n"
     ]
    }
   ],
   "source": [
    "\"\"\"\n",
    "Q17.\n",
    "Write a program to create a dictionary from a string\n",
    "\"\"\"\n",
    "str1 = \"w3resource\"\n",
    "my_dict = {}\n",
    "\n",
    "for letter in str1:\n",
    "   \n",
    "    my_dict[letter] = my_dict.get(letter, 0) + 1\n",
    "\n",
    "print(my_dict) "
   ]
  },
  {
   "cell_type": "code",
   "execution_count": 4,
   "id": "8ea05e7d-38ce-4ad9-aeaf-1d05c0f42871",
   "metadata": {},
   "outputs": [
    {
     "name": "stdout",
     "output_type": "stream",
     "text": [
      "{1: {2: {3: {4: {}}}}}\n"
     ]
    }
   ],
   "source": [
    "\"\"\"\n",
    "Q18.\n",
    "Write a program to convert a list into a nested dictionary of keys\n",
    "\"\"\"\n",
    "# num_list = [1, 2, 3, 4]\n",
    "# new_dict = current={}         #new_dict = current = {}\n",
    "# for n in num_list:\n",
    "#     current[n] = {}           #current[n] = {} 1:{}  1:{2: }\n",
    "#     current = current[n]      #current = current[n]  {}\n",
    "          \n",
    "# print(new_dict)\n",
    "\n",
    "\n",
    "\n",
    "def nested_dic(lst):\n",
    "    if not lst:\n",
    "        return {}\n",
    "    return{lst[0]: nested_dic (lst[1:])}\n",
    "input_list = [1, 2, 3, 4]\n",
    "output_dic=nested_dic(input_list)\n",
    "print(output_dic)"
   ]
  },
  {
   "cell_type": "code",
   "execution_count": 18,
   "id": "67e51bd2-7818-4283-83df-4ffdb059c452",
   "metadata": {},
   "outputs": [
    {
     "name": "stdout",
     "output_type": "stream",
     "text": [
      "{'emp1': {'name': 'Awais', 'salary': 7500}, 'emp2': {'name': 'jhon', 'salary': 9000}, 'emp3': {'name': 'haris', 'salary': 8500}}\n"
     ]
    }
   ],
   "source": [
    "\"\"\"\n",
    "Q19.\n",
    "Change value of a key in nested dictionary\n",
    "\"\"\"\n",
    "sample_dic={\n",
    "    \"emp1\":{\"name\":\"Awais\",\"salary\":7500},\n",
    "    \"emp2\":{\"name\":\"jhon\",\"salary\":8000},\n",
    "    \"emp3\":{\"name\":\"emma\",\"salary\":8500},\n",
    "    \n",
    "\n",
    "}\n",
    "\n",
    "# sample_dic.update({\"emp1\":{\"name\":\"altaf\",\"salary\":500}})\n",
    "# sample_dic.update({\"emp2\":{\"name\":\"haris\",\"salary\":1500}})\n",
    "# sample_dic.update({\"emp3\":{\"name\":\"junaid\",\"salary\":2500}})\n",
    "# print(sample_dic)\n",
    "\n",
    "sample_dic[\"emp2\"][\"salary\"] = 9000\n",
    "sample_dic[\"emp3\"][\"name\"] = \"haris\"\n",
    "print(sample_dic)"
   ]
  },
  {
   "cell_type": "code",
   "execution_count": 19,
   "id": "1f9c89c8-1a0d-4cfd-b1c9-7838b589ba37",
   "metadata": {},
   "outputs": [
    {
     "name": "stdout",
     "output_type": "stream",
     "text": [
      "Key: 1, Value: 10\n",
      "Key: 2, Value: 20\n",
      "Key: 3, Value: 30\n",
      "Key: 4, Value: 40\n",
      "Key: 5, Value: 50\n",
      "Key: 6, Value: 60\n"
     ]
    }
   ],
   "source": [
    "\"\"\"\n",
    "Q20.\n",
    "Get the key, value and item in a dictionary\n",
    "\"\"\"\n",
    "\n",
    "sample_dic={1:10,2:20,3:30,4:40,5:50,6:60}\n",
    "\n",
    "for k, v in sample_dic.items():\n",
    "    print(f\"Key: {k}, Value: {v}\")"
   ]
  },
  {
   "cell_type": "code",
   "execution_count": 20,
   "id": "f7e0c802-482f-4fec-bb05-ba1ec4f1b898",
   "metadata": {},
   "outputs": [
    {
     "name": "stdout",
     "output_type": "stream",
     "text": [
      "[{'Science': 88, 'Language': 77}, {'Science': 89, 'Language': 78}, {'Science': 62, 'Language': 84}, {'Science': 95, 'Language': 80}]\n"
     ]
    }
   ],
   "source": [
    "\"\"\"\n",
    "Q21.\n",
    "Write a program to split a given dictionary of lists into lists of dictionaries.\n",
    "\"\"\"\n",
    "marks = {'Science': [88, 89, 62, 95], 'Language': [77, 78, 84, 80]}\n",
    "keys = list(marks.keys())\n",
    "result = []\n",
    "for i in range(len(marks[keys[0]])):\n",
    "    new_dict = {}\n",
    "    for k in keys:\n",
    "        new_dict[k] = marks[k][i]\n",
    "    result.append(new_dict)\n",
    "\n",
    "print(result)\n"
   ]
  },
  {
   "cell_type": "code",
   "execution_count": 21,
   "id": "c8fee445-68cf-40d2-82b9-5aa7963e7b17",
   "metadata": {},
   "outputs": [
    {
     "name": "stdout",
     "output_type": "stream",
     "text": [
      "[{'id': '#800000', 'color': 'Maroon'}, {'id': '#FFFF00', 'color': 'Yellow'}, {'id': '#808000', 'color': 'Olive'}]\n"
     ]
    }
   ],
   "source": [
    "\"\"\"\n",
    "Q22.\n",
    " Write a program to remove a specified dictionary from a given list.\n",
    "\"\"\"\n",
    "colors = [\n",
    "    {\"id\": \"#FF0000\", \"color\": \"Red\"},\n",
    "    {\"id\": \"#800000\", \"color\": \"Maroon\"},\n",
    "    {\"id\": \"#FFFF00\", \"color\": \"Yellow\"},\n",
    "    {\"id\": \"#808000\", \"color\": \"Olive\"}\n",
    "]\n",
    "k_id = \"#FF0000\"\n",
    "filtered_colors = []\n",
    "for d in colors:\n",
    "    if d['id'] != k_id:\n",
    "        filtered_colors.append(d)\n",
    "colors[:] = filtered_colors\n",
    "\n",
    "print(colors)\n",
    "\n"
   ]
  },
  {
   "cell_type": "code",
   "execution_count": null,
   "id": "18bb3f0d-e053-41cc-ab7c-c8b996ac75ef",
   "metadata": {},
   "outputs": [],
   "source": []
  }
 ],
 "metadata": {
  "kernelspec": {
   "display_name": "Python 3",
   "language": "python",
   "name": "python3"
  },
  "language_info": {
   "codemirror_mode": {
    "name": "ipython",
    "version": 3
   },
   "file_extension": ".py",
   "mimetype": "text/x-python",
   "name": "python",
   "nbconvert_exporter": "python",
   "pygments_lexer": "ipython3",
   "version": "3.7.5"
  }
 },
 "nbformat": 4,
 "nbformat_minor": 5
}
